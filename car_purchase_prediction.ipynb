{
  "metadata": {
    "kernelspec": {
      "language": "python",
      "display_name": "Python 3",
      "name": "python3"
    },
    "language_info": {
      "name": "python",
      "version": "3.10.13",
      "mimetype": "text/x-python",
      "codemirror_mode": {
        "name": "ipython",
        "version": 3
      },
      "pygments_lexer": "ipython3",
      "nbconvert_exporter": "python",
      "file_extension": ".py"
    },
    "kaggle": {
      "accelerator": "none",
      "dataSources": [
        {
          "sourceId": 1376588,
          "sourceType": "datasetVersion",
          "datasetId": 802839
        }
      ],
      "dockerImageVersionId": 30684,
      "isInternetEnabled": true,
      "language": "python",
      "sourceType": "notebook",
      "isGpuEnabled": false
    },
    "colab": {
      "provenance": [],
      "include_colab_link": true
    }
  },
  "nbformat_minor": 0,
  "nbformat": 4,
  "cells": [
    {
      "cell_type": "markdown",
      "metadata": {
        "id": "view-in-github",
        "colab_type": "text"
      },
      "source": [
        "<a href=\"https://colab.research.google.com/github/Ayeshaaa777/car-purchase-prediction/blob/main/car_purchase_prediction.ipynb\" target=\"_parent\"><img src=\"https://colab.research.google.com/assets/colab-badge.svg\" alt=\"Open In Colab\"/></a>"
      ]
    },
    {
      "source": [
        "\n",
        "# IMPORTANT: RUN THIS CELL IN ORDER TO IMPORT YOUR KAGGLE DATA SOURCES\n",
        "# TO THE CORRECT LOCATION (/kaggle/input) IN YOUR NOTEBOOK,\n",
        "# THEN FEEL FREE TO DELETE THIS CELL.\n",
        "# NOTE: THIS NOTEBOOK ENVIRONMENT DIFFERS FROM KAGGLE'S PYTHON\n",
        "# ENVIRONMENT SO THERE MAY BE MISSING LIBRARIES USED BY YOUR\n",
        "# NOTEBOOK.\n",
        "\n",
        "import os\n",
        "import sys\n",
        "from tempfile import NamedTemporaryFile\n",
        "from urllib.request import urlopen\n",
        "from urllib.parse import unquote, urlparse\n",
        "from urllib.error import HTTPError\n",
        "from zipfile import ZipFile\n",
        "import tarfile\n",
        "import shutil\n",
        "\n",
        "CHUNK_SIZE = 40960\n",
        "DATA_SOURCE_MAPPING = 'car-sales-price-prediction:https%3A%2F%2Fstorage.googleapis.com%2Fkaggle-data-sets%2F802839%2F1376588%2Fbundle%2Farchive.zip%3FX-Goog-Algorithm%3DGOOG4-RSA-SHA256%26X-Goog-Credential%3Dgcp-kaggle-com%2540kaggle-161607.iam.gserviceaccount.com%252F20240412%252Fauto%252Fstorage%252Fgoog4_request%26X-Goog-Date%3D20240412T123918Z%26X-Goog-Expires%3D259200%26X-Goog-SignedHeaders%3Dhost%26X-Goog-Signature%3D3bd4c8f0ee1357ec27cfc3d41d8caf86d4120ca0da928bf0dc851cee32e0030c4492f38872562e9fc679ac0532434d7812a0f533b98e8a07d66f3dc3b6011cb1f2c9a1bb5446a8f4fd5b878e5008999ccc7f4772f84bab1902cb2b9efc3a39d5689ad419909aff07116355a9e35336a0e7cf464c55abd512845a49992577f03b7920884533b3510686a11755be533fbae0032f2ade14115685662c56c8916e03e726f8d6b0d101aa4dc16732991021779e71a5bb908d401eccd74613ef9afb379c4e5659c0348927c4707fcc3959aec7ae2b439482debca8b9c262f381b6014e86bbbc9253f39952904e72db302d1cf6f8d4c1fa6afe1bbd62ad7fe2258ce38e'\n",
        "\n",
        "KAGGLE_INPUT_PATH='/kaggle/input'\n",
        "KAGGLE_WORKING_PATH='/kaggle/working'\n",
        "KAGGLE_SYMLINK='kaggle'\n",
        "\n",
        "!umount /kaggle/input/ 2> /dev/null\n",
        "shutil.rmtree('/kaggle/input', ignore_errors=True)\n",
        "os.makedirs(KAGGLE_INPUT_PATH, 0o777, exist_ok=True)\n",
        "os.makedirs(KAGGLE_WORKING_PATH, 0o777, exist_ok=True)\n",
        "\n",
        "try:\n",
        "  os.symlink(KAGGLE_INPUT_PATH, os.path.join(\"..\", 'input'), target_is_directory=True)\n",
        "except FileExistsError:\n",
        "  pass\n",
        "try:\n",
        "  os.symlink(KAGGLE_WORKING_PATH, os.path.join(\"..\", 'working'), target_is_directory=True)\n",
        "except FileExistsError:\n",
        "  pass\n",
        "\n",
        "for data_source_mapping in DATA_SOURCE_MAPPING.split(','):\n",
        "    directory, download_url_encoded = data_source_mapping.split(':')\n",
        "    download_url = unquote(download_url_encoded)\n",
        "    filename = urlparse(download_url).path\n",
        "    destination_path = os.path.join(KAGGLE_INPUT_PATH, directory)\n",
        "    try:\n",
        "        with urlopen(download_url) as fileres, NamedTemporaryFile() as tfile:\n",
        "            total_length = fileres.headers['content-length']\n",
        "            print(f'Downloading {directory}, {total_length} bytes compressed')\n",
        "            dl = 0\n",
        "            data = fileres.read(CHUNK_SIZE)\n",
        "            while len(data) > 0:\n",
        "                dl += len(data)\n",
        "                tfile.write(data)\n",
        "                done = int(50 * dl / int(total_length))\n",
        "                sys.stdout.write(f\"\\r[{'=' * done}{' ' * (50-done)}] {dl} bytes downloaded\")\n",
        "                sys.stdout.flush()\n",
        "                data = fileres.read(CHUNK_SIZE)\n",
        "            if filename.endswith('.zip'):\n",
        "              with ZipFile(tfile) as zfile:\n",
        "                zfile.extractall(destination_path)\n",
        "            else:\n",
        "              with tarfile.open(tfile.name) as tarfile:\n",
        "                tarfile.extractall(destination_path)\n",
        "            print(f'\\nDownloaded and uncompressed: {directory}')\n",
        "    except HTTPError as e:\n",
        "        print(f'Failed to load (likely expired) {download_url} to path {destination_path}')\n",
        "        continue\n",
        "    except OSError as e:\n",
        "        print(f'Failed to load {download_url} to path {destination_path}')\n",
        "        continue\n",
        "\n",
        "print('Data source import complete.')\n"
      ],
      "metadata": {
        "id": "N_8cltpuVNYK"
      },
      "cell_type": "code",
      "outputs": [],
      "execution_count": null
    },
    {
      "cell_type": "code",
      "source": [
        "# This Python 3 environment comes with many helpful analytics libraries installed\n",
        "# It is defined by the kaggle/python Docker image: https://github.com/kaggle/docker-python\n",
        "# For example, here's several helpful packages to load\n",
        "\n",
        "import numpy as np # linear algebra\n",
        "import pandas as pd # data processing, CSV file I/O (e.g. pd.read_csv)\n",
        "\n",
        "# Input data files are available in the read-only \"../input/\" directory\n",
        "# For example, running this (by clicking run or pressing Shift+Enter) will list all files under the input directory\n",
        "\n",
        "import os\n",
        "for dirname, _, filenames in os.walk('/kaggle/input'):\n",
        "    for filename in filenames:\n",
        "        print(os.path.join(dirname, filename))\n",
        "\n",
        "# You can write up to 20GB to the current directory (/kaggle/working/) that gets preserved as output when you create a version using \"Save & Run All\"\n",
        "# You can also write temporary files to /kaggle/temp/, but they won't be saved outside of the current session"
      ],
      "metadata": {
        "_uuid": "8f2839f25d086af736a60e9eeb907d3b93b6e0e5",
        "_cell_guid": "b1076dfc-b9ad-4769-8c92-a6c4dae69d19",
        "execution": {
          "iopub.status.busy": "2024-04-12T12:26:50.320068Z",
          "iopub.execute_input": "2024-04-12T12:26:50.320491Z",
          "iopub.status.idle": "2024-04-12T12:26:51.394536Z",
          "shell.execute_reply.started": "2024-04-12T12:26:50.320456Z",
          "shell.execute_reply": "2024-04-12T12:26:51.393368Z"
        },
        "trusted": true,
        "id": "R0eOnVkPVNYM"
      },
      "execution_count": null,
      "outputs": []
    },
    {
      "cell_type": "code",
      "source": [
        "import matplotlib.pyplot as plt\n",
        "import seaborn as sns"
      ],
      "metadata": {
        "execution": {
          "iopub.status.busy": "2024-04-12T12:28:33.146539Z",
          "iopub.execute_input": "2024-04-12T12:28:33.147547Z",
          "iopub.status.idle": "2024-04-12T12:28:34.55166Z",
          "shell.execute_reply.started": "2024-04-12T12:28:33.147512Z",
          "shell.execute_reply": "2024-04-12T12:28:34.550363Z"
        },
        "trusted": true,
        "id": "26B8T5nGVNYN"
      },
      "execution_count": null,
      "outputs": []
    },
    {
      "cell_type": "code",
      "source": [
        "import pandas as pd\n",
        "\n",
        "# Specify the file path to your dataset\n",
        "file_path = '/kaggle/input/car-sales-price-prediction/Car_Data.csv'\n",
        "\n",
        "# Attempt to read the CSV file with different encodings\n",
        "try:\n",
        "    data = pd.read_csv(file_path, encoding='utf-8')\n",
        "except UnicodeDecodeError:\n",
        "    # If UTF-8 encoding fails, try 'latin1' (ISO-8859-1)\n",
        "    car_df = pd.read_csv(file_path, encoding='latin1')\n",
        "\n",
        "# Now you can work with your data\n",
        "print(car_df.head())\n"
      ],
      "metadata": {
        "execution": {
          "iopub.status.busy": "2024-04-12T12:28:38.712555Z",
          "iopub.execute_input": "2024-04-12T12:28:38.713026Z",
          "iopub.status.idle": "2024-04-12T12:28:38.733423Z",
          "shell.execute_reply.started": "2024-04-12T12:28:38.71299Z",
          "shell.execute_reply": "2024-04-12T12:28:38.732207Z"
        },
        "trusted": true,
        "id": "mOOTBv4KVNYO"
      },
      "execution_count": null,
      "outputs": []
    },
    {
      "cell_type": "code",
      "source": [
        "car_df"
      ],
      "metadata": {
        "execution": {
          "iopub.status.busy": "2024-04-12T12:28:43.879617Z",
          "iopub.execute_input": "2024-04-12T12:28:43.880774Z",
          "iopub.status.idle": "2024-04-12T12:28:43.907787Z",
          "shell.execute_reply.started": "2024-04-12T12:28:43.880735Z",
          "shell.execute_reply": "2024-04-12T12:28:43.906593Z"
        },
        "trusted": true,
        "id": "MW4ateqDVNYO"
      },
      "execution_count": null,
      "outputs": []
    },
    {
      "cell_type": "code",
      "source": [
        "car_df.replace([np.inf, -np.inf], np.nan, inplace=True)\n",
        "sns.pairplot(car_df)"
      ],
      "metadata": {
        "execution": {
          "iopub.status.busy": "2024-04-12T12:28:46.132836Z",
          "iopub.execute_input": "2024-04-12T12:28:46.133265Z",
          "iopub.status.idle": "2024-04-12T12:28:57.152071Z",
          "shell.execute_reply.started": "2024-04-12T12:28:46.133235Z",
          "shell.execute_reply": "2024-04-12T12:28:57.150764Z"
        },
        "trusted": true,
        "id": "6luxRSVKVNYP"
      },
      "execution_count": null,
      "outputs": []
    },
    {
      "cell_type": "markdown",
      "source": [
        "splitting the dataset\n"
      ],
      "metadata": {
        "id": "A-5c6Zn6VNYP"
      }
    },
    {
      "cell_type": "code",
      "source": [
        "X=car_df.drop(['Customer Name','Customer e-mail','Country','Car Purchase Amount'],axis=1)"
      ],
      "metadata": {
        "execution": {
          "iopub.status.busy": "2024-04-12T12:29:23.560204Z",
          "iopub.execute_input": "2024-04-12T12:29:23.560643Z",
          "iopub.status.idle": "2024-04-12T12:29:23.567986Z",
          "shell.execute_reply.started": "2024-04-12T12:29:23.560596Z",
          "shell.execute_reply": "2024-04-12T12:29:23.566533Z"
        },
        "trusted": true,
        "id": "mH07boH4VNYR"
      },
      "execution_count": null,
      "outputs": []
    },
    {
      "cell_type": "code",
      "source": [
        "X\n",
        "#X is the input and y is the output"
      ],
      "metadata": {
        "execution": {
          "iopub.status.busy": "2024-04-12T12:29:33.367638Z",
          "iopub.execute_input": "2024-04-12T12:29:33.368754Z",
          "iopub.status.idle": "2024-04-12T12:29:33.385117Z",
          "shell.execute_reply.started": "2024-04-12T12:29:33.368718Z",
          "shell.execute_reply": "2024-04-12T12:29:33.383713Z"
        },
        "trusted": true,
        "id": "EWWAkNiaVNYS"
      },
      "execution_count": null,
      "outputs": []
    },
    {
      "cell_type": "code",
      "source": [
        "y=car_df['Car Purchase Amount']"
      ],
      "metadata": {
        "execution": {
          "iopub.status.busy": "2024-04-12T12:29:36.247021Z",
          "iopub.execute_input": "2024-04-12T12:29:36.24784Z",
          "iopub.status.idle": "2024-04-12T12:29:36.253217Z",
          "shell.execute_reply.started": "2024-04-12T12:29:36.247786Z",
          "shell.execute_reply": "2024-04-12T12:29:36.25229Z"
        },
        "trusted": true,
        "id": "DUFlb0KIVNYS"
      },
      "execution_count": null,
      "outputs": []
    },
    {
      "cell_type": "code",
      "source": [
        "y"
      ],
      "metadata": {
        "execution": {
          "iopub.status.busy": "2024-04-12T12:29:37.957921Z",
          "iopub.execute_input": "2024-04-12T12:29:37.958915Z",
          "iopub.status.idle": "2024-04-12T12:29:37.968719Z",
          "shell.execute_reply.started": "2024-04-12T12:29:37.958881Z",
          "shell.execute_reply": "2024-04-12T12:29:37.966784Z"
        },
        "trusted": true,
        "id": "axBiUIPPVNYT"
      },
      "execution_count": null,
      "outputs": []
    },
    {
      "cell_type": "code",
      "source": [
        "X.shape"
      ],
      "metadata": {
        "execution": {
          "iopub.status.busy": "2024-04-12T12:29:40.239002Z",
          "iopub.execute_input": "2024-04-12T12:29:40.240045Z",
          "iopub.status.idle": "2024-04-12T12:29:40.247964Z",
          "shell.execute_reply.started": "2024-04-12T12:29:40.240003Z",
          "shell.execute_reply": "2024-04-12T12:29:40.246482Z"
        },
        "trusted": true,
        "id": "67674567VNYT"
      },
      "execution_count": null,
      "outputs": []
    },
    {
      "cell_type": "code",
      "source": [
        "y.shape"
      ],
      "metadata": {
        "execution": {
          "iopub.status.busy": "2024-04-12T12:29:41.846972Z",
          "iopub.execute_input": "2024-04-12T12:29:41.848119Z",
          "iopub.status.idle": "2024-04-12T12:29:41.855125Z",
          "shell.execute_reply.started": "2024-04-12T12:29:41.84808Z",
          "shell.execute_reply": "2024-04-12T12:29:41.853678Z"
        },
        "trusted": true,
        "id": "scjm1Tv1VNYT"
      },
      "execution_count": null,
      "outputs": []
    },
    {
      "cell_type": "markdown",
      "source": [
        "dataset/data cleaning\n",
        "# the data is not normalized\n",
        "# PREPROCESSING STEPS AHEAD"
      ],
      "metadata": {
        "id": "XTdA3G6nVNYU"
      }
    },
    {
      "cell_type": "code",
      "source": [
        "# all our data wil range from 0-1 to process well\n",
        "from sklearn.preprocessing import MinMaxScaler"
      ],
      "metadata": {
        "execution": {
          "iopub.status.busy": "2024-04-12T12:29:44.032629Z",
          "iopub.execute_input": "2024-04-12T12:29:44.033099Z",
          "iopub.status.idle": "2024-04-12T12:29:44.22968Z",
          "shell.execute_reply.started": "2024-04-12T12:29:44.033068Z",
          "shell.execute_reply": "2024-04-12T12:29:44.228262Z"
        },
        "trusted": true,
        "id": "I3gERhL6VNYV"
      },
      "execution_count": null,
      "outputs": []
    },
    {
      "cell_type": "code",
      "source": [
        "scaler=MinMaxScaler()\n",
        "X_scaled=scaler.fit_transform(X)"
      ],
      "metadata": {
        "execution": {
          "iopub.status.busy": "2024-04-12T12:29:45.559042Z",
          "iopub.execute_input": "2024-04-12T12:29:45.559553Z",
          "iopub.status.idle": "2024-04-12T12:29:45.570784Z",
          "shell.execute_reply.started": "2024-04-12T12:29:45.559513Z",
          "shell.execute_reply": "2024-04-12T12:29:45.569419Z"
        },
        "trusted": true,
        "id": "UtE4R-GkVNYV"
      },
      "execution_count": null,
      "outputs": []
    },
    {
      "cell_type": "code",
      "source": [
        "X_scaled"
      ],
      "metadata": {
        "execution": {
          "iopub.status.busy": "2024-04-12T12:29:47.377523Z",
          "iopub.execute_input": "2024-04-12T12:29:47.378095Z",
          "iopub.status.idle": "2024-04-12T12:29:47.389042Z",
          "shell.execute_reply.started": "2024-04-12T12:29:47.378025Z",
          "shell.execute_reply": "2024-04-12T12:29:47.386686Z"
        },
        "trusted": true,
        "id": "tx-IqUYyVNYV"
      },
      "execution_count": null,
      "outputs": []
    },
    {
      "cell_type": "code",
      "source": [
        "X_scaled.shape"
      ],
      "metadata": {
        "execution": {
          "iopub.status.busy": "2024-04-12T12:29:49.320826Z",
          "iopub.execute_input": "2024-04-12T12:29:49.32166Z",
          "iopub.status.idle": "2024-04-12T12:29:49.329238Z",
          "shell.execute_reply.started": "2024-04-12T12:29:49.321592Z",
          "shell.execute_reply": "2024-04-12T12:29:49.327856Z"
        },
        "trusted": true,
        "id": "ZAMek5wjVNYV"
      },
      "execution_count": null,
      "outputs": []
    },
    {
      "cell_type": "code",
      "source": [
        "scaler.data_max_"
      ],
      "metadata": {
        "execution": {
          "iopub.status.busy": "2024-04-12T12:29:51.359369Z",
          "iopub.execute_input": "2024-04-12T12:29:51.359833Z",
          "iopub.status.idle": "2024-04-12T12:29:51.368141Z",
          "shell.execute_reply.started": "2024-04-12T12:29:51.359799Z",
          "shell.execute_reply": "2024-04-12T12:29:51.366714Z"
        },
        "trusted": true,
        "id": "8KeJC50TVNYV"
      },
      "execution_count": null,
      "outputs": []
    },
    {
      "cell_type": "code",
      "source": [
        "scaler.data_min_"
      ],
      "metadata": {
        "execution": {
          "iopub.status.busy": "2024-04-12T12:29:53.94267Z",
          "iopub.execute_input": "2024-04-12T12:29:53.943127Z",
          "iopub.status.idle": "2024-04-12T12:29:53.95265Z",
          "shell.execute_reply.started": "2024-04-12T12:29:53.943093Z",
          "shell.execute_reply": "2024-04-12T12:29:53.951436Z"
        },
        "trusted": true,
        "id": "2jsOVpboVNYV"
      },
      "execution_count": null,
      "outputs": []
    },
    {
      "cell_type": "code",
      "source": [
        "y=y.values.reshape(-1,1)"
      ],
      "metadata": {
        "execution": {
          "iopub.status.busy": "2024-04-12T12:29:55.751105Z",
          "iopub.execute_input": "2024-04-12T12:29:55.751613Z",
          "iopub.status.idle": "2024-04-12T12:29:55.757117Z",
          "shell.execute_reply.started": "2024-04-12T12:29:55.751563Z",
          "shell.execute_reply": "2024-04-12T12:29:55.755899Z"
        },
        "trusted": true,
        "id": "w6j-hfJAVNYV"
      },
      "execution_count": null,
      "outputs": []
    },
    {
      "cell_type": "markdown",
      "source": [
        "for the output too\n"
      ],
      "metadata": {
        "id": "DG8VK8xgVNYV"
      }
    },
    {
      "cell_type": "code",
      "source": [
        "y_scaled=scaler.fit_transform(y)"
      ],
      "metadata": {
        "execution": {
          "iopub.status.busy": "2024-04-12T12:29:57.474253Z",
          "iopub.execute_input": "2024-04-12T12:29:57.475408Z",
          "iopub.status.idle": "2024-04-12T12:29:57.483163Z",
          "shell.execute_reply.started": "2024-04-12T12:29:57.475352Z",
          "shell.execute_reply": "2024-04-12T12:29:57.482088Z"
        },
        "trusted": true,
        "id": "fDEXNSlNVNYW"
      },
      "execution_count": null,
      "outputs": []
    },
    {
      "cell_type": "code",
      "source": [
        "y_scaled"
      ],
      "metadata": {
        "execution": {
          "iopub.status.busy": "2024-04-12T12:30:02.262943Z",
          "iopub.execute_input": "2024-04-12T12:30:02.26337Z",
          "iopub.status.idle": "2024-04-12T12:30:02.279097Z",
          "shell.execute_reply.started": "2024-04-12T12:30:02.263342Z",
          "shell.execute_reply": "2024-04-12T12:30:02.27741Z"
        },
        "trusted": true,
        "id": "p9wzoQKhVNYW"
      },
      "execution_count": null,
      "outputs": []
    },
    {
      "cell_type": "code",
      "source": [
        "X_scaled.shape"
      ],
      "metadata": {
        "execution": {
          "iopub.status.busy": "2024-04-12T12:30:10.223476Z",
          "iopub.execute_input": "2024-04-12T12:30:10.223921Z",
          "iopub.status.idle": "2024-04-12T12:30:10.23119Z",
          "shell.execute_reply.started": "2024-04-12T12:30:10.223889Z",
          "shell.execute_reply": "2024-04-12T12:30:10.230375Z"
        },
        "trusted": true,
        "id": "3Th6vOrEVNYW"
      },
      "execution_count": null,
      "outputs": []
    },
    {
      "cell_type": "markdown",
      "source": [
        "**TRAINING THE MODEL**TRAINING THE MODEL"
      ],
      "metadata": {
        "id": "gsPlN0doVNYW"
      }
    },
    {
      "cell_type": "code",
      "source": [
        "from sklearn.model_selection import train_test_split\n",
        "X_train,X_test, y_train, y_test= train_test_split(X_scaled,y_scaled,test_size=0.3)"
      ],
      "metadata": {
        "execution": {
          "iopub.status.busy": "2024-04-12T12:30:12.21295Z",
          "iopub.execute_input": "2024-04-12T12:30:12.213628Z",
          "iopub.status.idle": "2024-04-12T12:30:12.325984Z",
          "shell.execute_reply.started": "2024-04-12T12:30:12.213581Z",
          "shell.execute_reply": "2024-04-12T12:30:12.32455Z"
        },
        "trusted": true,
        "id": "w55gSHt_VNYW"
      },
      "execution_count": null,
      "outputs": []
    },
    {
      "cell_type": "code",
      "source": [
        "X_train.shape"
      ],
      "metadata": {
        "execution": {
          "iopub.status.busy": "2024-04-12T12:30:15.905126Z",
          "iopub.execute_input": "2024-04-12T12:30:15.905576Z",
          "iopub.status.idle": "2024-04-12T12:30:15.912641Z",
          "shell.execute_reply.started": "2024-04-12T12:30:15.90552Z",
          "shell.execute_reply": "2024-04-12T12:30:15.911376Z"
        },
        "trusted": true,
        "id": "vxPUuxbJVNYW"
      },
      "execution_count": null,
      "outputs": []
    },
    {
      "cell_type": "code",
      "source": [
        "X_test.shape"
      ],
      "metadata": {
        "execution": {
          "iopub.status.busy": "2024-04-12T12:30:17.904024Z",
          "iopub.execute_input": "2024-04-12T12:30:17.905251Z",
          "iopub.status.idle": "2024-04-12T12:30:17.911102Z",
          "shell.execute_reply.started": "2024-04-12T12:30:17.905212Z",
          "shell.execute_reply": "2024-04-12T12:30:17.910076Z"
        },
        "trusted": true,
        "id": "zlgYuEAfVNYW"
      },
      "execution_count": null,
      "outputs": []
    },
    {
      "cell_type": "markdown",
      "source": [
        "buliding the artificial neural network"
      ],
      "metadata": {
        "id": "UeULI31MVNYW"
      }
    },
    {
      "cell_type": "code",
      "source": [
        "import tensorflow.keras\n",
        "from keras.models import Sequential\n",
        "from keras.layers import Dense # as we want to create a fully connected artificial neural network\n",
        "\n",
        "# model architecture\n",
        "model=Sequential()\n",
        "model.add(Dense(25,input_dim=5,activation='relu')) # here 25 is the number of neurons\n",
        "model.add(Dense(25,activation='relu')) # here by default 25 is connected to the next 25\n",
        "model.add(Dense(1,activation='linear')) # here we used linear because we are predicting a certain value (regression)\n"
      ],
      "metadata": {
        "execution": {
          "iopub.status.busy": "2024-04-12T12:30:20.240176Z",
          "iopub.execute_input": "2024-04-12T12:30:20.24101Z",
          "iopub.status.idle": "2024-04-12T12:30:33.997734Z",
          "shell.execute_reply.started": "2024-04-12T12:30:20.240968Z",
          "shell.execute_reply": "2024-04-12T12:30:33.996471Z"
        },
        "trusted": true,
        "id": "WmWWbDOcVNYW"
      },
      "execution_count": null,
      "outputs": []
    },
    {
      "cell_type": "code",
      "source": [
        "\n",
        "model.summary()"
      ],
      "metadata": {
        "execution": {
          "iopub.status.busy": "2024-04-12T12:30:34.02641Z",
          "iopub.execute_input": "2024-04-12T12:30:34.027027Z",
          "iopub.status.idle": "2024-04-12T12:30:34.05696Z",
          "shell.execute_reply.started": "2024-04-12T12:30:34.026996Z",
          "shell.execute_reply": "2024-04-12T12:30:34.055914Z"
        },
        "trusted": true,
        "id": "mds0faz0VNYW"
      },
      "execution_count": null,
      "outputs": []
    },
    {
      "cell_type": "markdown",
      "source": [
        "here how did we get 150 parameters\n",
        "we passed 5 inputs to 25 neurons which returns 5x25=125 weights and we have 25 bias signals to be added so it returns 150 parameters in total"
      ],
      "metadata": {
        "id": "HmNfeAQJVNYX"
      }
    },
    {
      "cell_type": "code",
      "source": [
        "# model training\n",
        "model.compile(optimizer='adam',loss='mean_squared_error')"
      ],
      "metadata": {
        "execution": {
          "iopub.status.busy": "2024-04-12T12:30:40.874883Z",
          "iopub.execute_input": "2024-04-12T12:30:40.876257Z",
          "iopub.status.idle": "2024-04-12T12:30:40.886972Z",
          "shell.execute_reply.started": "2024-04-12T12:30:40.87622Z",
          "shell.execute_reply": "2024-04-12T12:30:40.885731Z"
        },
        "trusted": true,
        "id": "aecaPTCPVNYX"
      },
      "execution_count": null,
      "outputs": []
    },
    {
      "cell_type": "code",
      "source": [
        "epochs_hist=model.fit(X_train,y_train,epochs=100,batch_size=50,verbose=1,validation_split=0.2)\n",
        "# verbose is how much information i need to show during training\n",
        "# the model is then performed o the validation set to check if the model is overfitting or not , overfitting is when the training data is not generalizing the data\n",
        "# 25 samples are passed per batch"
      ],
      "metadata": {
        "execution": {
          "iopub.status.busy": "2024-04-12T12:30:43.842207Z",
          "iopub.execute_input": "2024-04-12T12:30:43.84298Z",
          "iopub.status.idle": "2024-04-12T12:30:55.100466Z",
          "shell.execute_reply.started": "2024-04-12T12:30:43.842923Z",
          "shell.execute_reply": "2024-04-12T12:30:55.099275Z"
        },
        "trusted": true,
        "id": "RCGdGQg9VNYX"
      },
      "execution_count": null,
      "outputs": []
    },
    {
      "cell_type": "markdown",
      "source": [
        "# EVALUATING THE MODEL\n"
      ],
      "metadata": {
        "id": "UI_AQLV2VNYX"
      }
    },
    {
      "cell_type": "code",
      "source": [
        "epochs_hist.history.keys()"
      ],
      "metadata": {
        "execution": {
          "iopub.status.busy": "2024-04-12T12:30:57.018889Z",
          "iopub.execute_input": "2024-04-12T12:30:57.019877Z",
          "iopub.status.idle": "2024-04-12T12:30:57.026654Z",
          "shell.execute_reply.started": "2024-04-12T12:30:57.019838Z",
          "shell.execute_reply": "2024-04-12T12:30:57.025415Z"
        },
        "trusted": true,
        "id": "UlwlRduPVNYX"
      },
      "execution_count": null,
      "outputs": []
    },
    {
      "cell_type": "code",
      "source": [
        "plt.plot(epochs_hist.history['loss'])\n",
        "plt.plot(epochs_hist.history['val_loss'])\n",
        "plt.title('model loss progress during training')\n",
        "plt.ylabel('training and validation loss')\n",
        "plt.xlabel('epoch number')\n",
        "plt.legend(['Training Loss','Validation Loss'])"
      ],
      "metadata": {
        "execution": {
          "iopub.status.busy": "2024-04-12T12:30:59.05519Z",
          "iopub.execute_input": "2024-04-12T12:30:59.055639Z",
          "iopub.status.idle": "2024-04-12T12:30:59.405056Z",
          "shell.execute_reply.started": "2024-04-12T12:30:59.055582Z",
          "shell.execute_reply": "2024-04-12T12:30:59.403999Z"
        },
        "trusted": true,
        "id": "AXaUNDVJVNYX"
      },
      "execution_count": null,
      "outputs": []
    },
    {
      "cell_type": "markdown",
      "source": [
        "# we will now predict the for a new data\n"
      ],
      "metadata": {
        "id": "m3ykHhJGVNYX"
      }
    },
    {
      "cell_type": "code",
      "source": [
        "X_test=np.array([[1,50,50000,10000,600000]])\n",
        "y_predict=model.predict(X_test)"
      ],
      "metadata": {
        "execution": {
          "iopub.status.busy": "2024-04-12T12:34:41.155448Z",
          "iopub.execute_input": "2024-04-12T12:34:41.156509Z",
          "iopub.status.idle": "2024-04-12T12:34:41.276483Z",
          "shell.execute_reply.started": "2024-04-12T12:34:41.156475Z",
          "shell.execute_reply": "2024-04-12T12:34:41.275085Z"
        },
        "trusted": true,
        "id": "FAP5iHa2VNYf"
      },
      "execution_count": null,
      "outputs": []
    },
    {
      "cell_type": "code",
      "source": [
        "print('expected purchase amount',y_predict)"
      ],
      "metadata": {
        "execution": {
          "iopub.status.busy": "2024-04-12T12:35:00.175949Z",
          "iopub.execute_input": "2024-04-12T12:35:00.17639Z",
          "iopub.status.idle": "2024-04-12T12:35:00.18335Z",
          "shell.execute_reply.started": "2024-04-12T12:35:00.17636Z",
          "shell.execute_reply": "2024-04-12T12:35:00.182122Z"
        },
        "trusted": true,
        "id": "0y_7291dVNYf"
      },
      "execution_count": null,
      "outputs": []
    }
  ]
}